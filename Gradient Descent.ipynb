{
 "cells": [
  {
   "cell_type": "code",
   "execution_count": 31,
   "id": "0af0fb8c",
   "metadata": {},
   "outputs": [
    {
     "name": "stdout",
     "output_type": "stream",
     "text": [
      "Actual Optimal Value: 3\n",
      "Predicted Optimal Value: 2.9999999999999996\n",
      "Cost: 4.440892098500626e-16\n"
     ]
    }
   ],
   "source": [
    "import numpy as np\n",
    "\n",
    "def polynomial(x):\n",
    "    return 2*x**2 - 12*x - 13\n",
    "\n",
    "def derivative(x):\n",
    "    return 4*x - 12\n",
    "\n",
    "# Gradient Descent Function\n",
    "def my_gradient_descent(func, initial_x, learning_rate, num_iterations):\n",
    "    x = initial_x    \n",
    "    for _ in range(num_iterations):\n",
    "        gradient = derivative(x)\n",
    "        x = x - learning_rate * gradient\n",
    "    return x\n",
    "\n",
    "\n",
    "actual_optimal_value = 3\n",
    "\n",
    "starting_point = 0\n",
    "learning_rate = 0.1 \n",
    "num_iterations = 100\n",
    "\n",
    "# Perform gradient descent\n",
    "predicted_optimal_value = my_gradient_descent(polynomial, starting_point, learning_rate, num_iterations)\n",
    "\n",
    "# Calculate the cost\n",
    "cost = abs(predicted_optimal_value - actual_optimal_value)\n",
    "\n",
    "# Print the results\n",
    "print(\"Actual Optimal Value: {}\".format(actual_optimal_value))\n",
    "print(\"Predicted Optimal Value: {}\".format(predicted_optimal_value))\n",
    "print(\"Cost: {}\".format(cost))"
   ]
  },
  {
   "cell_type": "code",
   "execution_count": 32,
   "id": "94c05008",
   "metadata": {},
   "outputs": [
    {
     "name": "stdout",
     "output_type": "stream",
     "text": [
      "Actual Optimal Value: 3\n",
      "Predicted Optimal Value: 3.0000000000000004\n",
      "Cost: 4.440892098500626e-16\n"
     ]
    }
   ],
   "source": [
    "starting_point = 100\n",
    "learning_rate = 0.1 \n",
    "num_iterations = 100\n",
    "\n",
    "# Perform gradient descent\n",
    "predicted_optimal_value = my_gradient_descent(polynomial, starting_point, learning_rate, num_iterations)\n",
    "\n",
    "# Calculate the cost\n",
    "cost = abs(predicted_optimal_value - actual_optimal_value)\n",
    "\n",
    "# Print the results\n",
    "print(\"Actual Optimal Value: {}\".format(actual_optimal_value))\n",
    "print(\"Predicted Optimal Value: {}\".format(predicted_optimal_value))\n",
    "print(\"Cost: {}\".format(cost))"
   ]
  },
  {
   "cell_type": "code",
   "execution_count": 33,
   "id": "f58d2076",
   "metadata": {},
   "outputs": [
    {
     "name": "stdout",
     "output_type": "stream",
     "text": [
      "Actual Optimal Value: 3\n",
      "Predicted Optimal Value: 2.9999999999999996\n",
      "Cost: 4.440892098500626e-16\n"
     ]
    }
   ],
   "source": [
    "starting_point = 0\n",
    "learning_rate = 0.1\n",
    "num_iterations = 100\n",
    "\n",
    "# Perform gradient descent\n",
    "predicted_optimal_value = my_gradient_descent(polynomial, starting_point, learning_rate, num_iterations)\n",
    "\n",
    "# Calculate the cost\n",
    "cost = abs(predicted_optimal_value - actual_optimal_value)\n",
    "\n",
    "# Print the results\n",
    "print(\"Actual Optimal Value: {}\".format(actual_optimal_value))\n",
    "print(\"Predicted Optimal Value: {}\".format(predicted_optimal_value))\n",
    "print(\"Cost: {}\".format(cost))"
   ]
  },
  {
   "cell_type": "code",
   "execution_count": null,
   "id": "8ebb51c9",
   "metadata": {},
   "outputs": [],
   "source": []
  }
 ],
 "metadata": {
  "kernelspec": {
   "display_name": "Python 3 (ipykernel)",
   "language": "python",
   "name": "python3"
  },
  "language_info": {
   "codemirror_mode": {
    "name": "ipython",
    "version": 3
   },
   "file_extension": ".py",
   "mimetype": "text/x-python",
   "name": "python",
   "nbconvert_exporter": "python",
   "pygments_lexer": "ipython3",
   "version": "3.9.7"
  }
 },
 "nbformat": 4,
 "nbformat_minor": 5
}
